{
  "nbformat": 4,
  "nbformat_minor": 0,
  "metadata": {
    "colab": {
      "provenance": []
    },
    "kernelspec": {
      "name": "python3",
      "display_name": "Python 3"
    },
    "language_info": {
      "name": "python"
    }
  },
  "cells": [
    {
      "cell_type": "code",
      "source": [
        "#use virtual environment to run this code\n",
        "!pip install pymc3"
      ],
      "metadata": {
        "id": "6ojxjFv9cpYg"
      },
      "execution_count": null,
      "outputs": []
    },
    {
      "cell_type": "code",
      "execution_count": null,
      "metadata": {
        "id": "EdnXbCekcWvH"
      },
      "outputs": [],
      "source": [
        "import numpy as np\n",
        "import pandas as pd\n",
        "import pymc3 as pm"
      ]
    },
    {
      "cell_type": "code",
      "source": [
        "# Read individual stock market datasets and combine them into one DataFrame\n",
        "files = ['WOR.csv', 'WOW.csv', 'WPL.csv', 'WTC.csv']"
      ],
      "metadata": {
        "id": "yUcQtTCwcXry"
      },
      "execution_count": null,
      "outputs": []
    },
    {
      "cell_type": "code",
      "source": [
        "data = pd.DataFrame()\n",
        "\n",
        "for file in files:\n",
        "    stock_data = pd.read_csv(file, index_col='Date', parse_dates=True)\n",
        "    stock_data = stock_data[['Adj Close']]  # Keep only the 'Adjusted Close' column\n",
        "    stock_data.columns = [file.split('.')[0]]  # Rename the column to the company's name\n",
        "    if data.empty:\n",
        "        data = stock_data\n",
        "    else:\n",
        "        data = data.join(stock_data, how='outer')"
      ],
      "metadata": {
        "id": "Ge0cA-RTcXuU"
      },
      "execution_count": null,
      "outputs": []
    },
    {
      "cell_type": "code",
      "source": [
        "# Calculate daily returns and drop missing values\n",
        "returns = data.pct_change().dropna()\n",
        "\n",
        "# Calculate the covariance matrix of the daily returns\n",
        "cov_matrix = returns.cov()\n",
        "\n",
        "# Define Bayesian regression model for portfolio optimization\n",
        "n_assets = len(data.columns)"
      ],
      "metadata": {
        "id": "9lNljS-6cXxP"
      },
      "execution_count": null,
      "outputs": []
    },
    {
      "cell_type": "code",
      "source": [
        "with pm.Model() as portfolio_model:\n",
        "    # Define prior distributions for the asset weights\n",
        "    weights = pm.Dirichlet('weights', a=np.ones(n_assets), shape=n_assets)\n",
        "\n",
        "    # Calculate the portfolio returns using the weights\n",
        "    portfolio_return = pm.Deterministic('portfolio_return', pm.math.dot(returns.mean(), weights))\n",
        "\n",
        "    # Calculate the portfolio volatility using the weights and covariance matrix\n",
        "    portfolio_volatility = pm.Deterministic('portfolio_volatility',\n",
        "                                            pm.math.sqrt(pm.math.dot(pm.math.dot(weights, cov_matrix), weights.T)))\n",
        "\n",
        "    # Define the utility function (e.g., Sharpe ratio) to optimize\n",
        "    sharpe_ratio = pm.Deterministic('sharpe_ratio', portfolio_return / portfolio_volatility)\n",
        "\n",
        "    # Maximize the utility function\n",
        "    pm.Potential('sharpe_ratio', sharpe_ratio)"
      ],
      "metadata": {
        "id": "rIfBSm9ccXzR"
      },
      "execution_count": null,
      "outputs": []
    },
    {
      "cell_type": "code",
      "source": [
        "# Perform Bayesian optimization to find the optimal portfolio weights\n",
        "with portfolio_model:\n",
        "    trace = pm.sample(draws=2000, tune=1000, target_accept=0.95, return_inferencedata=False)"
      ],
      "metadata": {
        "id": "-jJG0PDEciz-"
      },
      "execution_count": null,
      "outputs": []
    },
    {
      "cell_type": "code",
      "source": [
        "# Display the results\n",
        "for file, weight in zip(files, optimal_weights):\n",
        "    print(f\"{file.split('.')[0]}: {weight:.4f}\")\n",
        "\n",
        "print(\"\\nOptimal Portfolio Weights: \", optimal_weights)"
      ],
      "metadata": {
        "id": "KcRAgZfFci2n"
      },
      "execution_count": null,
      "outputs": []
    },
    {
      "cell_type": "code",
      "source": [],
      "metadata": {
        "id": "rhdTLacwci6H"
      },
      "execution_count": null,
      "outputs": []
    }
  ]
}