{
  "nbformat": 4,
  "nbformat_minor": 0,
  "metadata": {
    "colab": {
      "provenance": []
    },
    "kernelspec": {
      "name": "python3",
      "display_name": "Python 3"
    },
    "language_info": {
      "name": "python"
    }
  },
  "cells": [
    {
      "cell_type": "code",
      "execution_count": 1,
      "metadata": {
        "id": "8bA8nnRyZ83w"
      },
      "outputs": [],
      "source": [
        "import pandas as pd\n",
        "import statsmodels.api as sm\n",
        "import statsmodels.formula.api as smf\n",
        "from sklearn.model_selection import train_test_split\n",
        "from sklearn.metrics import accuracy_score, confusion_matrix\n"
      ]
    },
    {
      "cell_type": "markdown",
      "source": [
        "# Load the dataset\n"
      ],
      "metadata": {
        "id": "-d5yQOYOabu3"
      }
    },
    {
      "cell_type": "code",
      "source": [
        "df = pd.read_csv('credit_risk_dataset.csv')\n",
        "df.head()\n"
      ],
      "metadata": {
        "colab": {
          "base_uri": "https://localhost:8080/",
          "height": 270
        },
        "id": "E84nSzK0aLXv",
        "outputId": "4a266768-aba2-4b4d-8435-248664168825"
      },
      "execution_count": 3,
      "outputs": [
        {
          "output_type": "execute_result",
          "data": {
            "text/plain": [
              "   person_age  person_income person_home_ownership  person_emp_length  \\\n",
              "0          22          59000                  RENT              123.0   \n",
              "1          21           9600                   OWN                5.0   \n",
              "2          25           9600              MORTGAGE                1.0   \n",
              "3          23          65500                  RENT                4.0   \n",
              "4          24          54400                  RENT                8.0   \n",
              "\n",
              "  loan_intent loan_grade  loan_amnt  loan_int_rate  loan_status  \\\n",
              "0    PERSONAL          D      35000          16.02            1   \n",
              "1   EDUCATION          B       1000          11.14            0   \n",
              "2     MEDICAL          C       5500          12.87            1   \n",
              "3     MEDICAL          C      35000          15.23            1   \n",
              "4     MEDICAL          C      35000          14.27            1   \n",
              "\n",
              "   loan_percent_income cb_person_default_on_file  cb_person_cred_hist_length  \n",
              "0                 0.59                         Y                           3  \n",
              "1                 0.10                         N                           2  \n",
              "2                 0.57                         N                           3  \n",
              "3                 0.53                         N                           2  \n",
              "4                 0.55                         Y                           4  "
            ],
            "text/html": [
              "\n",
              "  <div id=\"df-41fb544e-a451-4be5-9d17-7f4e69659bd1\">\n",
              "    <div class=\"colab-df-container\">\n",
              "      <div>\n",
              "<style scoped>\n",
              "    .dataframe tbody tr th:only-of-type {\n",
              "        vertical-align: middle;\n",
              "    }\n",
              "\n",
              "    .dataframe tbody tr th {\n",
              "        vertical-align: top;\n",
              "    }\n",
              "\n",
              "    .dataframe thead th {\n",
              "        text-align: right;\n",
              "    }\n",
              "</style>\n",
              "<table border=\"1\" class=\"dataframe\">\n",
              "  <thead>\n",
              "    <tr style=\"text-align: right;\">\n",
              "      <th></th>\n",
              "      <th>person_age</th>\n",
              "      <th>person_income</th>\n",
              "      <th>person_home_ownership</th>\n",
              "      <th>person_emp_length</th>\n",
              "      <th>loan_intent</th>\n",
              "      <th>loan_grade</th>\n",
              "      <th>loan_amnt</th>\n",
              "      <th>loan_int_rate</th>\n",
              "      <th>loan_status</th>\n",
              "      <th>loan_percent_income</th>\n",
              "      <th>cb_person_default_on_file</th>\n",
              "      <th>cb_person_cred_hist_length</th>\n",
              "    </tr>\n",
              "  </thead>\n",
              "  <tbody>\n",
              "    <tr>\n",
              "      <th>0</th>\n",
              "      <td>22</td>\n",
              "      <td>59000</td>\n",
              "      <td>RENT</td>\n",
              "      <td>123.0</td>\n",
              "      <td>PERSONAL</td>\n",
              "      <td>D</td>\n",
              "      <td>35000</td>\n",
              "      <td>16.02</td>\n",
              "      <td>1</td>\n",
              "      <td>0.59</td>\n",
              "      <td>Y</td>\n",
              "      <td>3</td>\n",
              "    </tr>\n",
              "    <tr>\n",
              "      <th>1</th>\n",
              "      <td>21</td>\n",
              "      <td>9600</td>\n",
              "      <td>OWN</td>\n",
              "      <td>5.0</td>\n",
              "      <td>EDUCATION</td>\n",
              "      <td>B</td>\n",
              "      <td>1000</td>\n",
              "      <td>11.14</td>\n",
              "      <td>0</td>\n",
              "      <td>0.10</td>\n",
              "      <td>N</td>\n",
              "      <td>2</td>\n",
              "    </tr>\n",
              "    <tr>\n",
              "      <th>2</th>\n",
              "      <td>25</td>\n",
              "      <td>9600</td>\n",
              "      <td>MORTGAGE</td>\n",
              "      <td>1.0</td>\n",
              "      <td>MEDICAL</td>\n",
              "      <td>C</td>\n",
              "      <td>5500</td>\n",
              "      <td>12.87</td>\n",
              "      <td>1</td>\n",
              "      <td>0.57</td>\n",
              "      <td>N</td>\n",
              "      <td>3</td>\n",
              "    </tr>\n",
              "    <tr>\n",
              "      <th>3</th>\n",
              "      <td>23</td>\n",
              "      <td>65500</td>\n",
              "      <td>RENT</td>\n",
              "      <td>4.0</td>\n",
              "      <td>MEDICAL</td>\n",
              "      <td>C</td>\n",
              "      <td>35000</td>\n",
              "      <td>15.23</td>\n",
              "      <td>1</td>\n",
              "      <td>0.53</td>\n",
              "      <td>N</td>\n",
              "      <td>2</td>\n",
              "    </tr>\n",
              "    <tr>\n",
              "      <th>4</th>\n",
              "      <td>24</td>\n",
              "      <td>54400</td>\n",
              "      <td>RENT</td>\n",
              "      <td>8.0</td>\n",
              "      <td>MEDICAL</td>\n",
              "      <td>C</td>\n",
              "      <td>35000</td>\n",
              "      <td>14.27</td>\n",
              "      <td>1</td>\n",
              "      <td>0.55</td>\n",
              "      <td>Y</td>\n",
              "      <td>4</td>\n",
              "    </tr>\n",
              "  </tbody>\n",
              "</table>\n",
              "</div>\n",
              "      <button class=\"colab-df-convert\" onclick=\"convertToInteractive('df-41fb544e-a451-4be5-9d17-7f4e69659bd1')\"\n",
              "              title=\"Convert this dataframe to an interactive table.\"\n",
              "              style=\"display:none;\">\n",
              "        \n",
              "  <svg xmlns=\"http://www.w3.org/2000/svg\" height=\"24px\"viewBox=\"0 0 24 24\"\n",
              "       width=\"24px\">\n",
              "    <path d=\"M0 0h24v24H0V0z\" fill=\"none\"/>\n",
              "    <path d=\"M18.56 5.44l.94 2.06.94-2.06 2.06-.94-2.06-.94-.94-2.06-.94 2.06-2.06.94zm-11 1L8.5 8.5l.94-2.06 2.06-.94-2.06-.94L8.5 2.5l-.94 2.06-2.06.94zm10 10l.94 2.06.94-2.06 2.06-.94-2.06-.94-.94-2.06-.94 2.06-2.06.94z\"/><path d=\"M17.41 7.96l-1.37-1.37c-.4-.4-.92-.59-1.43-.59-.52 0-1.04.2-1.43.59L10.3 9.45l-7.72 7.72c-.78.78-.78 2.05 0 2.83L4 21.41c.39.39.9.59 1.41.59.51 0 1.02-.2 1.41-.59l7.78-7.78 2.81-2.81c.8-.78.8-2.07 0-2.86zM5.41 20L4 18.59l7.72-7.72 1.47 1.35L5.41 20z\"/>\n",
              "  </svg>\n",
              "      </button>\n",
              "      \n",
              "  <style>\n",
              "    .colab-df-container {\n",
              "      display:flex;\n",
              "      flex-wrap:wrap;\n",
              "      gap: 12px;\n",
              "    }\n",
              "\n",
              "    .colab-df-convert {\n",
              "      background-color: #E8F0FE;\n",
              "      border: none;\n",
              "      border-radius: 50%;\n",
              "      cursor: pointer;\n",
              "      display: none;\n",
              "      fill: #1967D2;\n",
              "      height: 32px;\n",
              "      padding: 0 0 0 0;\n",
              "      width: 32px;\n",
              "    }\n",
              "\n",
              "    .colab-df-convert:hover {\n",
              "      background-color: #E2EBFA;\n",
              "      box-shadow: 0px 1px 2px rgba(60, 64, 67, 0.3), 0px 1px 3px 1px rgba(60, 64, 67, 0.15);\n",
              "      fill: #174EA6;\n",
              "    }\n",
              "\n",
              "    [theme=dark] .colab-df-convert {\n",
              "      background-color: #3B4455;\n",
              "      fill: #D2E3FC;\n",
              "    }\n",
              "\n",
              "    [theme=dark] .colab-df-convert:hover {\n",
              "      background-color: #434B5C;\n",
              "      box-shadow: 0px 1px 3px 1px rgba(0, 0, 0, 0.15);\n",
              "      filter: drop-shadow(0px 1px 2px rgba(0, 0, 0, 0.3));\n",
              "      fill: #FFFFFF;\n",
              "    }\n",
              "  </style>\n",
              "\n",
              "      <script>\n",
              "        const buttonEl =\n",
              "          document.querySelector('#df-41fb544e-a451-4be5-9d17-7f4e69659bd1 button.colab-df-convert');\n",
              "        buttonEl.style.display =\n",
              "          google.colab.kernel.accessAllowed ? 'block' : 'none';\n",
              "\n",
              "        async function convertToInteractive(key) {\n",
              "          const element = document.querySelector('#df-41fb544e-a451-4be5-9d17-7f4e69659bd1');\n",
              "          const dataTable =\n",
              "            await google.colab.kernel.invokeFunction('convertToInteractive',\n",
              "                                                     [key], {});\n",
              "          if (!dataTable) return;\n",
              "\n",
              "          const docLinkHtml = 'Like what you see? Visit the ' +\n",
              "            '<a target=\"_blank\" href=https://colab.research.google.com/notebooks/data_table.ipynb>data table notebook</a>'\n",
              "            + ' to learn more about interactive tables.';\n",
              "          element.innerHTML = '';\n",
              "          dataTable['output_type'] = 'display_data';\n",
              "          await google.colab.output.renderOutput(dataTable, element);\n",
              "          const docLink = document.createElement('div');\n",
              "          docLink.innerHTML = docLinkHtml;\n",
              "          element.appendChild(docLink);\n",
              "        }\n",
              "      </script>\n",
              "    </div>\n",
              "  </div>\n",
              "  "
            ]
          },
          "metadata": {},
          "execution_count": 3
        }
      ]
    },
    {
      "cell_type": "markdown",
      "source": [
        "# One-hot encode categorical variables\n"
      ],
      "metadata": {
        "id": "mifExxq5adGl"
      }
    },
    {
      "cell_type": "code",
      "source": [
        "\n",
        "df = pd.get_dummies(df, columns=['person_home_ownership', 'loan_intent', 'loan_grade', 'cb_person_default_on_file'], drop_first=True)\n",
        "\n"
      ],
      "metadata": {
        "id": "On4Is2CaaLZv"
      },
      "execution_count": 4,
      "outputs": []
    },
    {
      "cell_type": "markdown",
      "source": [
        "# Split the data into training and testing sets\n"
      ],
      "metadata": {
        "id": "NrmlDyTdaeS-"
      }
    },
    {
      "cell_type": "code",
      "source": [
        "train_df, test_df = train_test_split(df, test_size=0.2, random_state=42)"
      ],
      "metadata": {
        "id": "nvrZM7MWaLb9"
      },
      "execution_count": 5,
      "outputs": []
    },
    {
      "cell_type": "markdown",
      "source": [
        "# Define the formula"
      ],
      "metadata": {
        "id": "zu7MKdFbafwR"
      }
    },
    {
      "cell_type": "code",
      "source": [
        "formula = 'loan_status ~ person_age + person_income + person_emp_length + loan_amnt + loan_int_rate + loan_percent_income + cb_person_cred_hist_length + ' + ' + '.join([col for col in df.columns if 'person_home_ownership_' in col or 'loan_intent_' in col or 'loan_grade_' in col or 'cb_person_default_on_file_' in col])\n",
        "model = smf.glm(formula=formula, data=train_df, family=sm.families.Binomial()).fit()\n"
      ],
      "metadata": {
        "id": "5Vvy1fjWaLeT"
      },
      "execution_count": 9,
      "outputs": []
    },
    {
      "cell_type": "markdown",
      "source": [
        "# Predict probabilities for the test set\n"
      ],
      "metadata": {
        "id": "IX-_xSBwain6"
      }
    },
    {
      "cell_type": "code",
      "source": [
        "test_df['pred_prob'] = model.predict(test_df)\n",
        "\n",
        "# Convert probabilities to binary predictions (threshold = 0.5)\n",
        "test_df['pred_loan_status'] = test_df['pred_prob'].apply(lambda x: 1 if x > 0.5 else 0)\n",
        "\n"
      ],
      "metadata": {
        "id": "FpmsCxDdaLgr"
      },
      "execution_count": 10,
      "outputs": []
    },
    {
      "cell_type": "markdown",
      "source": [
        "# Evaluation metrics"
      ],
      "metadata": {
        "id": "ygnkWRj2akCp"
      }
    },
    {
      "cell_type": "code",
      "source": [
        "# Calculate accuracy\n",
        "accuracy = accuracy_score(test_df['loan_status'], test_df['pred_loan_status'])\n",
        "print(\"Accuracy:\", accuracy)\n",
        "\n",
        "# Print confusion matrix\n",
        "conf_matrix = confusion_matrix(test_df['loan_status'], test_df['pred_loan_status'])\n",
        "print(\"Confusion Matrix:\\n\", conf_matrix)\n"
      ],
      "metadata": {
        "colab": {
          "base_uri": "https://localhost:8080/"
        },
        "id": "2Eq3wqnbaLj_",
        "outputId": "5d0de450-5a8a-4a11-f602-3c9d0119f880"
      },
      "execution_count": 11,
      "outputs": [
        {
          "output_type": "stream",
          "name": "stdout",
          "text": [
            "Accuracy: 0.8525395120454197\n",
            "Confusion Matrix:\n",
            " [[4859  213]\n",
            " [ 748  697]]\n"
          ]
        }
      ]
    },
    {
      "cell_type": "markdown",
      "source": [
        "# Print the model summary\n"
      ],
      "metadata": {
        "id": "sLluR9jzaoSK"
      }
    },
    {
      "cell_type": "code",
      "source": [
        "print(model.summary())\n"
      ],
      "metadata": {
        "colab": {
          "base_uri": "https://localhost:8080/"
        },
        "id": "mNqBPwWMaLlL",
        "outputId": "66906abc-e047-4b40-c213-1addb15d9f76"
      },
      "execution_count": 12,
      "outputs": [
        {
          "output_type": "stream",
          "name": "stdout",
          "text": [
            "                 Generalized Linear Model Regression Results                  \n",
            "==============================================================================\n",
            "Dep. Variable:            loan_status   No. Observations:                22920\n",
            "Model:                            GLM   Df Residuals:                    22897\n",
            "Model Family:                Binomial   Df Model:                           22\n",
            "Link Function:                  Logit   Scale:                          1.0000\n",
            "Method:                          IRLS   Log-Likelihood:                -7655.6\n",
            "Date:                Thu, 25 May 2023   Deviance:                       15311.\n",
            "Time:                        10:22:40   Pearson chi2:                 2.55e+04\n",
            "No. Iterations:                     7   Pseudo R-squ. (CS):             0.3127\n",
            "Covariance Type:            nonrobust                                         \n",
            "===============================================================================================\n",
            "                                  coef    std err          z      P>|z|      [0.025      0.975]\n",
            "-----------------------------------------------------------------------------------------------\n",
            "Intercept                      -3.9689      0.222    -17.904      0.000      -4.403      -3.534\n",
            "person_age                     -0.0133      0.007     -1.914      0.056      -0.027       0.000\n",
            "person_income                9.003e-07   3.33e-07      2.706      0.007    2.48e-07    1.55e-06\n",
            "person_emp_length              -0.0104      0.006     -1.851      0.064      -0.021       0.001\n",
            "loan_amnt                      -0.0001   4.76e-06    -21.379      0.000      -0.000   -9.24e-05\n",
            "loan_int_rate                   0.0596      0.020      2.934      0.003       0.020       0.099\n",
            "loan_percent_income            13.3242      0.280     47.670      0.000      12.776      13.872\n",
            "cb_person_cred_hist_length      0.0110      0.011      1.037      0.300      -0.010       0.032\n",
            "person_home_ownership_OTHER     0.4796      0.351      1.365      0.172      -0.209       1.168\n",
            "person_home_ownership_OWN      -1.7573      0.125    -14.014      0.000      -2.003      -1.512\n",
            "person_home_ownership_RENT      0.8659      0.048     17.998      0.000       0.772       0.960\n",
            "loan_intent_EDUCATION          -0.8565      0.068    -12.593      0.000      -0.990      -0.723\n",
            "loan_intent_HOMEIMPROVEMENT     0.0433      0.076      0.570      0.569      -0.106       0.192\n",
            "loan_intent_MEDICAL            -0.1854      0.065     -2.865      0.004      -0.312      -0.059\n",
            "loan_intent_PERSONAL           -0.6200      0.070     -8.911      0.000      -0.756      -0.484\n",
            "loan_intent_VENTURE            -1.1627      0.075    -15.560      0.000      -1.309      -1.016\n",
            "loan_grade_B                    0.2223      0.093      2.394      0.017       0.040       0.404\n",
            "loan_grade_C                    0.4237      0.139      3.039      0.002       0.150       0.697\n",
            "loan_grade_D                    2.5553      0.176     14.556      0.000       2.211       2.899\n",
            "loan_grade_E                    2.7121      0.221     12.261      0.000       2.279       3.146\n",
            "loan_grade_F                    3.2868      0.310     10.612      0.000       2.680       3.894\n",
            "loan_grade_G                    6.6081      1.072      6.165      0.000       4.507       8.709\n",
            "cb_person_default_on_file_Y     0.0239      0.059      0.402      0.688      -0.093       0.141\n",
            "===============================================================================================\n"
          ]
        }
      ]
    },
    {
      "cell_type": "markdown",
      "source": [
        "* The model is fitted on 22920 observations and 22 predictors.\n",
        "'loan_percent_income' has the highest positive coefficient, indicating a strong positive relationship with loan defaulting.\n",
        "\n",
        "* 'person_home_ownership_OWN' has a significant negative effect, indicating people who own homes are less likely to default.\n",
        "\n",
        "* The higher the loan grade (from B to G), the higher the chance of loan defaulting.\n",
        "\n",
        "* 'loan_intent_VENTURE' and 'loan_intent_EDUCATION' have significant negative coefficients, suggesting loans taken for these purposes are less likely to default.\n",
        "\n",
        "* Higher interest rates (loan_int_rate) slightly increase the likelihood of loan defaulting.\n",
        "\n",
        "* Older age (person_age) and longer employment length (person_emp_length) slightly reduce the chance of defaulting, but their effects are not statistically significant at a 5% significance level.\n",
        "\n",
        "* The likelihood of defaulting is not significantly affected by the length of credit history (cb_person_cred_hist_length) or a history of default (cb_person_default_on_file_Y).\n",
        "\n",
        "* The model's Pseudo R-square is 0.3127, which suggests about 31% of the variability in loan defaulting is explained by the predictors in this model.\n",
        "\n",
        "* The standard errors and z-scores indicate that most of the variables are statistically significant in predicting loan defaulting, but some variables (like cb_person_cred_hist_length and cb_person_default_on_file_Y) are not."
      ],
      "metadata": {
        "id": "IGSzfxwRb7pc"
      }
    },
    {
      "cell_type": "code",
      "source": [],
      "metadata": {
        "id": "UGeGcK_lbaWA"
      },
      "execution_count": null,
      "outputs": []
    }
  ]
}