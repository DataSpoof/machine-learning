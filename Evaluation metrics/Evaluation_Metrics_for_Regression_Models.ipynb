{
  "nbformat": 4,
  "nbformat_minor": 0,
  "metadata": {
    "colab": {
      "provenance": []
    },
    "kernelspec": {
      "name": "python3",
      "display_name": "Python 3"
    },
    "language_info": {
      "name": "python"
    }
  },
  "cells": [
    {
      "cell_type": "code",
      "execution_count": 2,
      "metadata": {
        "id": "ZjK5Wv8SL6tS"
      },
      "outputs": [],
      "source": [
        "import numpy as np\n",
        "from sklearn.metrics import mean_absolute_error, mean_squared_error, max_error, r2_score\n",
        "from sklearn.model_selection import train_test_split\n",
        "from sklearn.linear_model import LinearRegression\n",
        "from sklearn.datasets import fetch_california_housing\n",
        "import warnings\n",
        "warnings.filterwarnings(\"ignore\")\n"
      ]
    },
    {
      "cell_type": "code",
      "source": [
        "# Load Boston Housing dataset\n",
        "data = fetch_california_housing()\n",
        "X = data.data\n",
        "y = data.target\n",
        "\n",
        "# Split into training and test sets\n",
        "X_train, X_test, y_train, y_test = train_test_split(X, y, test_size=0.2, random_state=42)\n"
      ],
      "metadata": {
        "id": "I0zDVfIoMDdb"
      },
      "execution_count": 4,
      "outputs": []
    },
    {
      "cell_type": "code",
      "source": [
        "model = LinearRegression()\n",
        "model.fit(X_train, y_train)\n",
        "y_pred = model.predict(X_test)\n"
      ],
      "metadata": {
        "id": "fOqlXGgLMRf4"
      },
      "execution_count": 5,
      "outputs": []
    },
    {
      "cell_type": "code",
      "source": [
        "# Mean Absolute Error\n",
        "mae = mean_absolute_error(y_test, y_pred)\n",
        "\n",
        "# Mean Squared Error\n",
        "mse = mean_squared_error(y_test, y_pred)\n",
        "\n",
        "# Root Mean Squared Error\n",
        "rmse = np.sqrt(mse)\n",
        "\n",
        "# Max Error\n",
        "max_err = max_error(y_test, y_pred)\n",
        "\n",
        "# R2 Score\n",
        "r2 = r2_score(y_test, y_pred)\n",
        "\n",
        "# Adjusted R2 Score\n",
        "n = X_test.shape[0]  # number of samples\n",
        "p = X_test.shape[1]  # number of features\n",
        "adj_r2 = 1 - (1 - r2) * ((n - 1) / (n - p - 1))\n"
      ],
      "metadata": {
        "id": "qWozkAPrMb77"
      },
      "execution_count": 6,
      "outputs": []
    },
    {
      "cell_type": "code",
      "source": [
        "print(f\"Mean Absolute Error (MAE): {mae:.2f}\")\n",
        "print(f\"Mean Squared Error (MSE): {mse:.2f}\")\n",
        "print(f\"Root Mean Squared Error (RMSE): {rmse:.2f}\")\n",
        "print(f\"Max Error: {max_err:.2f}\")\n",
        "print(f\"R² Score: {r2:.2f}\")\n",
        "print(f\"Adjusted R² Score: {adj_r2:.2f}\")\n"
      ],
      "metadata": {
        "id": "A2oI5Sz6MdT8",
        "outputId": "ca16b51e-8281-478c-f904-b42be7aed166",
        "colab": {
          "base_uri": "https://localhost:8080/"
        }
      },
      "execution_count": 7,
      "outputs": [
        {
          "output_type": "stream",
          "name": "stdout",
          "text": [
            "Mean Absolute Error (MAE): 0.53\n",
            "Mean Squared Error (MSE): 0.56\n",
            "Root Mean Squared Error (RMSE): 0.75\n",
            "Max Error: 9.88\n",
            "R² Score: 0.58\n",
            "Adjusted R² Score: 0.57\n"
          ]
        }
      ]
    },
    {
      "cell_type": "code",
      "source": [],
      "metadata": {
        "id": "TIgimnp-MgAK"
      },
      "execution_count": null,
      "outputs": []
    }
  ]
}